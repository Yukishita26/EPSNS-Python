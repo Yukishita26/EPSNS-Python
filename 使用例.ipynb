{
 "cells": [
  {
   "cell_type": "markdown",
   "id": "3a8f6f17",
   "metadata": {},
   "source": [
    "# 使用例"
   ]
  },
  {
   "cell_type": "markdown",
   "id": "f9cd1c1b",
   "metadata": {},
   "source": [
    "## モジュールのインポート"
   ]
  },
  {
   "cell_type": "code",
   "execution_count": 1,
   "id": "3a644b1a",
   "metadata": {},
   "outputs": [],
   "source": [
    "from engineerSNS import EngineerSNS\n",
    "sns = EngineerSNS()"
   ]
  },
  {
   "cell_type": "markdown",
   "id": "088051d4",
   "metadata": {},
   "source": [
    "## ユーザーリストを取得"
   ]
  },
  {
   "cell_type": "code",
   "execution_count": null,
   "id": "3f411174",
   "metadata": {},
   "outputs": [],
   "source": [
    "# 取得のみ（ユーザー名表示に必要）\n",
    "sns.get_all_users(only_get=True)"
   ]
  },
  {
   "cell_type": "code",
   "execution_count": 2,
   "id": "2ca87460",
   "metadata": {
    "scrolled": true
   },
   "outputs": [
    {
     "name": "stdout",
     "output_type": "stream",
     "text": [
      "Leonardo0808 このサービスを作った人。CShaperだけど、これはJavaで作った。　他にも色々作ってる（けど全然使われてないので載せておこ・・・）https://webappforest.web.app\n",
      "namuyu なむゆなのだよ。API仕様書を見るとつい実行してみたくなるお年頃。\n",
      "Yourein しゅみぷろぐらまー\n",
      "ninja 実はエンジニアじゃないです\n",
      "15 Hello World!\n",
      "（　＾ω＾） ・・・\n",
      "chio 登録してみました。\n",
      "Oversleep オーバースリープ\n",
      "海老の天麩羅 私はたこです。\n",
      "にゃんこ仙人 qiitadonにいるよ\n",
      "hoge_test test register\n",
      "yotsugi_vip こんちゃー、てすてす\n",
      "javaboy 中学生の自称プログラマ。好きな歌手は平沢進。github:@javaboy-github\n",
      "yu-ichiro https://github.com/yu-ichiro\n",
      "TechnoKuRo 元警察官のフリーランスエンジニアで、バックエンドが得意です。\n",
      "うおかわ Qiitadon民\n",
      "cidr Look at @ryu_cidr on Twitter\n",
      "standard-software QiitaZenQuora\n",
      "situke situkeです。ラッパーです。トラックメイクやDJもやります。\n",
      "asa asa\n",
      " \n",
      "voidProc 休日趣味グラマ\n",
      " \n",
      "standard-soft 違うネットワーク環境\n",
      "standard-software2 \n",
      "javaboy2 javaboyの別のPCのアカウント\n",
      "28_aloneman Laravel好きです\n",
      "Joker_xyz1 数学をしている大学院生。\n",
      "DN360 しがないゲームプログラマです。\n",
      "called_D 多面体\n",
      "kirina いんふらさんです\n",
      "nullkal へにょい\n",
      "noqisofon ほよ！\n",
      "aaaaaaa bbbbbbb\n",
      "なかにしゆう こんにちは！\n",
      "ふぉん これでもWebエンジニアしてる\n",
      "standard-softです ですです\n",
      " \n",
      "We ハロー、API!\n",
      "LeylineL2 Leyline_L2\n",
      "feb19 ホームページ・アプリ手作りおじさん\n",
      "ponpokopokotann ponpokopokotannです\n",
      "OMGWTF太郎 自分でAPIを叩けなかった、負け組。\n",
      "ka https://www.kaosfield.net/\n",
      "hiyashikyuri hiyashikyuriです!!\n",
      "xxxxxxxxxx 自己紹介テスト\n",
      "inTheRye データサイエンティストしてます。\n",
      "string string\n",
      "t46 フリーランスの研究者です\n",
      "oika 僕です\n",
      "hogemax ホゲの極み\n",
      "macloooooooooo 👁👁\n",
      "fujinyo conca.cc作ってます\n",
      " \n",
      "ddj ddj death\n",
      "みもねる です。\n",
      "417_72ki Swiftでクライアント作るか\n",
      "marcwoozie よろしくです\n",
      "renowan フロントの人\n",
      "foxnoodle きつねのおうどん\n",
      " \n",
      "yukishita post from Jupyter notebook (Python)\n",
      "Python コンソール用のラッパー作ってみた https://github.com/Yukishita26/EPSNS-Python\n",
      "nawada こんにちはこんにちは！\n",
      "shin-sforzando はじめまして。\n",
      "０ ０\n",
      "sevenc-nanashi https://lit.link/sevencnanashi\n",
      "ytk どうも！\n",
      "yuu26 https://twitter.com/m_on_yu\n",
      "foo var\n",
      "miyara いけるかな？\n"
     ]
    },
    {
     "data": {
      "text/plain": [
       "<Response [200]>"
      ]
     },
     "execution_count": 2,
     "metadata": {},
     "output_type": "execute_result"
    }
   ],
   "source": [
    "# 取得と表示\n",
    "sns.get_all_users()"
   ]
  },
  {
   "cell_type": "markdown",
   "id": "5950530e",
   "metadata": {},
   "source": [
    "## 投稿を取得"
   ]
  },
  {
   "cell_type": "code",
   "execution_count": 3,
   "id": "b96c01cf",
   "metadata": {},
   "outputs": [
    {
     "name": "stdout",
     "output_type": "stream",
     "text": [
      "2021-07-21 16:58:09 （　＾ω＾） 珍棒\n",
      "2021-07-21 16:53:32 unknown 東京都1832人コロナ感染確認らしい、皆さんお気をつけて...てか五輪やるんかこれ...??\n",
      "2021-07-21 16:42:11 unknown ちょっと見学\n",
      "2021-07-21 16:30:00 yukishita 改行\n",
      "てすと\n",
      "2021-07-21 16:25:05 unknown 意味ないじゃん\n",
      "2021-07-21 16:24:12 unknown AAAAAAAAAAAAAAAAAAA\n",
      "2021-07-21 16:11:01 unknown aaaa\n",
      "2021-07-21 15:59:17 うおかわ 👍\n",
      "2021-07-21 15:58:28 Leonardo0808 暫定で、GET以外のRequestは1分10回までにしたよ。\n",
      "2021-07-21 15:55:08 javaboy2 tes\n",
      "2021-07-21 15:54:01 みもねる はぁ〜〜〜誰もいない静かな森の中の小さな湖の畔に住みてぇ〜〜〜　ただしコンビニ付きで　あとネットも\n",
      "2021-07-21 15:50:03 hogemax ネットワークの設定する場合にはBSDの方が良いな・・・性能とかそういう高度な話じゃなくてめったに設定方法が変わらないという事。設定方法がしょっちゅう変わるのはネットワーク機器として使いたい場合ツライ\n",
      "2021-07-21 15:48:00 javaboy2 tes\n",
      "2021-07-21 15:44:24 Leonardo0808 はー。荒らしかぁ・・・　とりあえずこれで　_user_id ne ’d9ecf9245defb6b07cb86fe92a6fde9e735fc9f9’\n",
      "2021-07-21 15:43:23 unknown ʕ•̫͡•ʕ•̫͡•ʔ•̫͡•ʔ\n",
      "2021-07-21 15:42:26 ０ https%3a%2f%2ftwitter%2ecom%2f_kmch4n_ cyp\n",
      "2021-07-21 15:42:26 ０ https%3a%2f%2ftwitter%2ecom%2f_kmch4n_ cyo\n",
      "2021-07-21 15:42:26 ０ https%3a%2f%2ftwitter%2ecom%2f_kmch4n_ cyn\n",
      "2021-07-21 15:42:26 ０ https%3a%2f%2ftwitter%2ecom%2f_kmch4n_ cym\n",
      "2021-07-21 15:42:25 ０ https%3a%2f%2ftwitter%2ecom%2f_kmch4n_ cyl\n"
     ]
    },
    {
     "data": {
      "text/plain": [
       "<Response [200]>"
      ]
     },
     "execution_count": 3,
     "metadata": {},
     "output_type": "execute_result"
    }
   ],
   "source": [
    "sns.get_latest_posts(limit=20)"
   ]
  },
  {
   "cell_type": "markdown",
   "id": "765a9dd5",
   "metadata": {},
   "source": [
    "## ユーザー登録\n",
    "\n",
    "無くてもOK"
   ]
  },
  {
   "cell_type": "code",
   "execution_count": null,
   "id": "b4f9a14d",
   "metadata": {},
   "outputs": [],
   "source": [
    "sns.resister_user(name=\"hoge\", description=\"your bio\")"
   ]
  },
  {
   "cell_type": "markdown",
   "id": "d8255dec",
   "metadata": {},
   "source": [
    "## 投稿"
   ]
  },
  {
   "cell_type": "code",
   "execution_count": 4,
   "id": "b18c0645",
   "metadata": {},
   "outputs": [
    {
     "data": {
      "text/plain": [
       "<Response [201]>"
      ]
     },
     "execution_count": 4,
     "metadata": {},
     "output_type": "execute_result"
    }
   ],
   "source": [
    "sns.post_new_text(text=\"\"\"Hello, SNS!\n",
    "post from Python console\"\"\")"
   ]
  },
  {
   "cell_type": "markdown",
   "id": "a6484c0c",
   "metadata": {},
   "source": [
    "## 特定のユーザーを除外"
   ]
  },
  {
   "cell_type": "code",
   "execution_count": 5,
   "id": "8d84047c",
   "metadata": {},
   "outputs": [
    {
     "name": "stdout",
     "output_type": "stream",
     "text": [
      "2021-07-21 16:58:09 295ed770ef99375582a4a532186416d57e4c8690 珍棒\n",
      "2021-07-21 16:53:32 75a16f89d19c46e05261f6431d88d462c6231abc 東京都1832人コロナ感染確認らしい、皆さんお気をつけて...てか五輪やるんかこれ...??\n",
      "2021-07-21 16:42:11 edabc81f78cbcd7b3e34a8a93f29cbee86cb5c0e ちょっと見学\n",
      "2021-07-21 16:30:00 95ec48b0860939a74db1466dae17cb114eb29d39 改行\n",
      "てすと\n",
      "2021-07-21 16:25:05 7f340552c0cbed0500d125070cae83b32d72c655 意味ないじゃん\n",
      "2021-07-21 16:24:12 7f340552c0cbed0500d125070cae83b32d72c655 AAAAAAAAAAAAAAAAAAA\n",
      "2021-07-21 16:11:01 7db16f62ef08df3f3f36cc9e31c73e8efdc485c1 aaaa\n",
      "2021-07-21 15:59:17 57039384a74e1fed39b1663b460b7e7f51f99bee 👍\n",
      "2021-07-21 15:58:28 3a1bdba464ccb76022e0d10f657a0effdc24782c 暫定で、GET以外のRequestは1分10回までにしたよ。\n",
      "2021-07-21 15:55:08 9dce480497f49be4451a1624a19d5fdf25051867 tes\n",
      "2021-07-21 15:54:01 a332d8c00712e19e37fd4c64a1dad44587aa4b0c はぁ〜〜〜誰もいない静かな森の中の小さな湖の畔に住みてぇ〜〜〜　ただしコンビニ付きで　あとネットも\n",
      "2021-07-21 15:50:03 32ad6b7b57c86c9844483c4c6e02eaee02978638 ネットワークの設定する場合にはBSDの方が良いな・・・性能とかそういう高度な話じゃなくてめったに設定方法が変わらないという事。設定方法がしょっちゅう変わるのはネットワーク機器として使いたい場合ツライ\n",
      "2021-07-21 15:48:00 9dce480497f49be4451a1624a19d5fdf25051867 tes\n",
      "2021-07-21 15:44:24 3a1bdba464ccb76022e0d10f657a0effdc24782c はー。荒らしかぁ・・・　とりあえずこれで　_user_id ne ’d9ecf9245defb6b07cb86fe92a6fde9e735fc9f9’\n",
      "2021-07-21 15:43:23 43a3e7a6879c27d11cf382f9c6a9f66f8c4f2304 ʕ•̫͡•ʕ•̫͡•ʔ•̫͡•ʔ\n",
      "2021-07-21 15:42:26 d9ecf9245defb6b07cb86fe92a6fde9e735fc9f9 https%3a%2f%2ftwitter%2ecom%2f_kmch4n_ cyp\n",
      "2021-07-21 15:42:26 d9ecf9245defb6b07cb86fe92a6fde9e735fc9f9 https%3a%2f%2ftwitter%2ecom%2f_kmch4n_ cyo\n",
      "2021-07-21 15:42:26 d9ecf9245defb6b07cb86fe92a6fde9e735fc9f9 https%3a%2f%2ftwitter%2ecom%2f_kmch4n_ cyn\n",
      "2021-07-21 15:42:26 d9ecf9245defb6b07cb86fe92a6fde9e735fc9f9 https%3a%2f%2ftwitter%2ecom%2f_kmch4n_ cym\n",
      "2021-07-21 15:42:25 d9ecf9245defb6b07cb86fe92a6fde9e735fc9f9 https%3a%2f%2ftwitter%2ecom%2f_kmch4n_ cyl\n"
     ]
    }
   ],
   "source": [
    "# IDを確認\n",
    "sns.show_again_latest_posts(show_id=True)"
   ]
  },
  {
   "cell_type": "code",
   "execution_count": 6,
   "id": "e61da12b",
   "metadata": {},
   "outputs": [],
   "source": [
    "# ブロックするユーザーのIDを指定\n",
    "sns.block_user(userid=\"d9ecf9245defb6b07cb86fe92a6fde9e735fc9f9\")"
   ]
  },
  {
   "cell_type": "code",
   "execution_count": 7,
   "id": "b2444ded",
   "metadata": {},
   "outputs": [
    {
     "name": "stdout",
     "output_type": "stream",
     "text": [
      "2021-07-21 17:03:11 yukishita Hello, SNS!\n",
      "post from Python console\n",
      "2021-07-21 16:58:09 （　＾ω＾） 珍棒\n",
      "2021-07-21 16:53:32 unknown 東京都1832人コロナ感染確認らしい、皆さんお気をつけて...てか五輪やるんかこれ...??\n",
      "2021-07-21 16:42:11 unknown ちょっと見学\n",
      "2021-07-21 16:30:00 yukishita 改行\n",
      "てすと\n",
      "2021-07-21 16:25:05 unknown 意味ないじゃん\n",
      "2021-07-21 16:24:12 unknown AAAAAAAAAAAAAAAAAAA\n",
      "2021-07-21 16:11:01 unknown aaaa\n",
      "2021-07-21 15:59:17 うおかわ 👍\n",
      "2021-07-21 15:58:28 Leonardo0808 暫定で、GET以外のRequestは1分10回までにしたよ。\n",
      "2021-07-21 15:55:08 javaboy2 tes\n",
      "2021-07-21 15:54:01 みもねる はぁ〜〜〜誰もいない静かな森の中の小さな湖の畔に住みてぇ〜〜〜　ただしコンビニ付きで　あとネットも\n",
      "2021-07-21 15:50:03 hogemax ネットワークの設定する場合にはBSDの方が良いな・・・性能とかそういう高度な話じゃなくてめったに設定方法が変わらないという事。設定方法がしょっちゅう変わるのはネットワーク機器として使いたい場合ツライ\n",
      "2021-07-21 15:48:00 javaboy2 tes\n",
      "2021-07-21 15:44:24 Leonardo0808 はー。荒らしかぁ・・・　とりあえずこれで　_user_id ne ’d9ecf9245defb6b07cb86fe92a6fde9e735fc9f9’\n",
      "2021-07-21 15:43:23 unknown ʕ•̫͡•ʕ•̫͡•ʔ•̫͡•ʔ\n"
     ]
    },
    {
     "data": {
      "text/plain": [
       "<Response [200]>"
      ]
     },
     "execution_count": 7,
     "metadata": {},
     "output_type": "execute_result"
    }
   ],
   "source": [
    "sns.get_latest_posts(limit=100)"
   ]
  },
  {
   "cell_type": "code",
   "execution_count": null,
   "id": "ba206932",
   "metadata": {},
   "outputs": [],
   "source": []
  }
 ],
 "metadata": {
  "kernelspec": {
   "display_name": "Python 3",
   "language": "python",
   "name": "python3"
  },
  "language_info": {
   "codemirror_mode": {
    "name": "ipython",
    "version": 3
   },
   "file_extension": ".py",
   "mimetype": "text/x-python",
   "name": "python",
   "nbconvert_exporter": "python",
   "pygments_lexer": "ipython3",
   "version": "3.8.10"
  }
 },
 "nbformat": 4,
 "nbformat_minor": 5
}
